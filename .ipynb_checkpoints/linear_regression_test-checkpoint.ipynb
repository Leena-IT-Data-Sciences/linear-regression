{
 "cells": [
  {
   "cell_type": "code",
   "execution_count": 140,
   "metadata": {
    "collapsed": true
   },
   "outputs": [],
   "source": [
    "import numpy as np\n",
    "import pandas as pd\n",
    "import matplotlib.pyplot as plt\n",
    "import matplotlib.animation\n",
    "from sklearn.preprocessing import MinMaxScaler"
   ]
  },
  {
   "cell_type": "code",
   "execution_count": 185,
   "metadata": {
    "collapsed": true
   },
   "outputs": [],
   "source": [
    "# Defining constants\n",
    "iterations = 2000\n",
    "learning_rate = 0.01"
   ]
  },
  {
   "cell_type": "code",
   "execution_count": 192,
   "metadata": {},
   "outputs": [
    {
     "data": {
      "image/png": "[encoded data removed]",
      "text/plain": [
       "<matplotlib.figure.Figure at 0x2264d0c50b8>"
      ]
     },
     "metadata": {},
     "output_type": "display_data"
    }
   ],
   "source": [
    "# loading the data\n",
    "data = np.genfromtxt(\"data.csv\", delimiter=',')\n",
    "data_x = data[:, 0]\n",
    "data_y = data[:, 1]\n",
    "\"\"\"mm1 = MinMaxScaler()\n",
    "data_x = mm1.fit_transform(data.time.values.reshape(-1, 1))\n",
    "mm2 = MinMaxScaler()\n",
    "data_y = mm2.fit_transform(data.temp.values.reshape(-1, 1))\"\"\"\n",
    "mm1 = MinMaxScaler()\n",
    "data_x = mm1.fit_transform(data[:, 0].reshape(-1, 1))\n",
    "mm2 = MinMaxScaler()\n",
    "data_y = mm2.fit_transform(data[:, 1].reshape(-1, 1))\n",
    "\n",
    "#data_x = np.random.rand(10).astype(np.float32)\n",
    "#data_y = data_x * 3 + 2\n",
    "\n",
    "#data_x = [0, 0.2, 0.4, 0.6, 0.8, 1]\n",
    "#data_y = [2, 2.6, 3.2, 3.8, 4.4, 5]\n",
    "\n",
    "N = len(data_x)\n",
    "# N = 10\n",
    "\n",
    "plt.plot(data_x, data_y, 'bo')\n",
    "\n",
    "plt.show()"
   ]
  },
  {
   "cell_type": "code",
   "execution_count": 195,
   "metadata": {},
   "outputs": [
    {
     "name": "stdout",
     "output_type": "stream",
     "text": [
      "1999 [0.0152299] [0.57231775] [0.17286371]\n",
      "[[-0.53360836]] [[-0.35664714]]\n"
     ]
    },
    {
     "data": {
      "image/png": "[encoded data removed]",
      "text/plain": [
       "<matplotlib.figure.Figure at 0x2264d331f60>"
      ]
     },
     "metadata": {},
     "output_type": "display_data"
    }
   ],
   "source": [
    "m_i = 0\n",
    "c_i = 0\n",
    "for iteration in range(0, iterations):\n",
    "    loss = 0\n",
    "    for i in range(N):\n",
    "        y = m_i * data_x[i] + c_i\n",
    "        error = y - data_y[i]\n",
    "        # loss\n",
    "        loss += error**2\n",
    "    loss = loss/float(N)\n",
    "    \n",
    "    # gradient descent\n",
    "    m=0\n",
    "    c=0\n",
    "    for i in range(0, N):\n",
    "        guess = m_i * data_x[i] + c_i\n",
    "        error = data_y[i] - guess\n",
    "        m = m + (2/float(N)) * (error * data_x[i]) \n",
    "        c = c + (2/float(N)) * error\n",
    "    #if iteration % 100 == 0:\n",
    "       # plt.plot([0, 1], [c, m+c])\n",
    "    m_i += m * learning_rate\n",
    "    c_i += c*learning_rate\n",
    "    #print(iteration, loss, m_i, c_i)\n",
    "    #if iteration % 100 == 0:\n",
    "    #    plt.plot([0, 1], [c_i, m_i+c_i])\n",
    "print(iteration, loss, m_i, c_i)\n",
    "print(mm1.transform(), mm2.transform(0.74))\n",
    "\n",
    "plt.plot([0, 1], [c_i, m_i+c_i])\n",
    "plt.plot(data_x, data_y, 'bo')\n",
    "plt.show()"
   ]
  }
 ],
 "metadata": {
  "kernelspec": {
   "display_name": "Python 3",
   "language": "python",
   "name": "python3"
  },
  "language_info": {
   "codemirror_mode": {
    "name": "ipython",
    "version": 3
   },
   "file_extension": ".py",
   "mimetype": "text/x-python",
   "name": "python",
   "nbconvert_exporter": "python",
   "pygments_lexer": "ipython3",
   "version": "3.5.4"
  }
 },
 "nbformat": 4,
 "nbformat_minor": 2
}
